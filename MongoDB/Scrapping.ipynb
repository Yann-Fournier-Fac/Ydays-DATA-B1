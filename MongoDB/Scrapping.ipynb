{
 "cells": [
  {
   "cell_type": "code",
   "execution_count": 9,
   "metadata": {},
   "outputs": [
    {
     "name": "stderr",
     "output_type": "stream",
     "text": [
      "/var/folders/1_/54_5j3cn25jd5mt0cyzggqj80000gn/T/ipykernel_27626/2078896590.py:12: DeprecationWarning: executable_path has been deprecated, please pass in a Service object\n",
      "  driver = webdriver.Chrome(DRIVER_PATH, options=chrome_options)\n"
     ]
    },
    {
     "name": "stdout",
     "output_type": "stream",
     "text": [
      "0k\n",
      "0k\n",
      "0k\n",
      "0k\n",
      "0k\n",
      "0k\n",
      "0k\n",
      "0k\n",
      "0k\n",
      "0k\n",
      "Pas Ok\n"
     ]
    }
   ],
   "source": [
    "from selenium import webdriver\n",
    "from selenium.webdriver.common.by import By\n",
    "from selenium.webdriver.chrome.options import Options\n",
    "import pandas as pd\n",
    "\n",
    "# Garder la page ouverte\n",
    "chrome_options = Options() \n",
    "chrome_options.add_experimental_option(\"detach\", True)\n",
    "\n",
    "# On recupere le controle du driver\n",
    "DRIVER_PATH = \"./chromedriver\"\n",
    "driver = webdriver.Chrome(DRIVER_PATH, options=chrome_options)\n",
    "driver.implicitly_wait(5)\n",
    "\n",
    "page_url = \"http://quotes.toscrape.com/\"\n",
    "driver.get(page_url)\n",
    "\n",
    "Quote = []\n",
    "Autor = []\n",
    "boolean = True\n",
    "cpt = 0\n",
    "\n",
    "\n",
    "while boolean:\n",
    "    cpt+=1                         \n",
    "    try:\n",
    "        page_url = \"http://quotes.toscrape.com/page/\" + str(cpt) + \"/\"\n",
    "        driver.get(page_url)\n",
    "\n",
    "        for i in range(1,11):\n",
    "            Quote.append(driver.find_element(By.XPATH, \"/html/body/div/div[2]/div[1]/div[\"+ str(i)+\"]/span[1]\").text)\n",
    "            Autor.append(driver.find_element(By.XPATH, \"/html/body/div/div[2]/div[1]/div[\"+ str(i)+\"]/span[2]/small\").text)\n",
    "\n",
    "        print(\"0k\")\n",
    "    except:\n",
    "        boolean = False\n",
    "        print(\"Pas Ok\")\n",
    "\n",
    "driver.close()\n",
    "driver.quit()\n",
    "\n",
    "df = pd.DataFrame({'Autor':Autor, 'Quote':Quote})\n",
    "df.to_csv('QuotesToScape.csv', index=False, encoding='utf-8')"
   ]
  }
 ],
 "metadata": {
  "kernelspec": {
   "display_name": "Python 3",
   "language": "python",
   "name": "python3"
  },
  "language_info": {
   "codemirror_mode": {
    "name": "ipython",
    "version": 3
   },
   "file_extension": ".py",
   "mimetype": "text/x-python",
   "name": "python",
   "nbconvert_exporter": "python",
   "pygments_lexer": "ipython3",
   "version": "3.11.0"
  },
  "orig_nbformat": 4
 },
 "nbformat": 4,
 "nbformat_minor": 2
}
